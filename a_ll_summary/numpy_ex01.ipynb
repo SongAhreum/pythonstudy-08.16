{
 "cells": [
  {
   "cell_type": "markdown",
   "metadata": {},
   "source": [
    "## Numpy = numerical + python\n",
    "- 다차원배열(multi-dimensional array) 라이브러리로 과학,공학 연산을 쉽게 지원한다 : numpy의 주요객체는  homogeneous multidimensional array \n",
    "\n",
    "- 대규모 배열처리를 쉽게함\n",
    "\n",
    "- ndarray(다차원배열)라는 자료를 생성하고 이를 바탕으로 색인, 처리, 연산 등을 하는 기능을 수행\n",
    "\n",
    "- 간단한 기술통계 분석 정도는 가능하지만 실제로는 Scipy, Pandas, matplotlib 등 다른 Python 패키지와 함께 쓰이는 경우가 많다.\n",
    "\n",
    "#### 특징\n",
    "- python list보다 빠르고 메모리효율좋음\n",
    "\n",
    "- 내부에 연속된 메모리구조를 가지고(Array Interface)를 가지고 있고, C를 통해 연산된다.\n",
    "\n"
   ]
  },
  {
   "cell_type": "markdown",
   "metadata": {},
   "source": [
    "### 1.생성함수\n",
    "### arange, ones, zeros, empty, _like"
   ]
  },
  {
   "cell_type": "code",
   "execution_count": 22,
   "metadata": {},
   "outputs": [],
   "source": [
    "import numpy as np\n"
   ]
  },
  {
   "cell_type": "code",
   "execution_count": 23,
   "metadata": {},
   "outputs": [
    {
     "data": {
      "text/plain": [
       "array([[[0., 0., 0.],\n",
       "        [0., 0., 0.],\n",
       "        [0., 0., 0.]],\n",
       "\n",
       "       [[0., 0., 0.],\n",
       "        [0., 0., 0.],\n",
       "        [0., 0., 0.]],\n",
       "\n",
       "       [[0., 0., 0.],\n",
       "        [0., 0., 0.],\n",
       "        [0., 0., 0.]]])"
      ]
     },
     "execution_count": 23,
     "metadata": {},
     "output_type": "execute_result"
    }
   ],
   "source": [
    "arr1 = np.zeros(5)\n",
    "arr2 = np.zeros((3,2))\n",
    "arr3 = np.zeros((3,3,3))\n",
    "arr3"
   ]
  },
  {
   "cell_type": "code",
   "execution_count": 24,
   "metadata": {},
   "outputs": [
    {
     "data": {
      "text/plain": [
       "array([[1., 1., 1.],\n",
       "       [1., 1., 1.],\n",
       "       [1., 1., 1.]])"
      ]
     },
     "execution_count": 24,
     "metadata": {},
     "output_type": "execute_result"
    }
   ],
   "source": [
    "arr = np.ones(5)\n",
    "arr1 = np.ones((3,3))\n",
    "arr1"
   ]
  },
  {
   "cell_type": "code",
   "execution_count": 25,
   "metadata": {},
   "outputs": [
    {
     "data": {
      "text/plain": [
       "array([0., 0., 0., 0., 0.])"
      ]
     },
     "execution_count": 25,
     "metadata": {},
     "output_type": "execute_result"
    }
   ],
   "source": [
    "#초기화되지 않은값으로 배열생성, 메모리초기화안되어서 예상못한 쓰레기값으로 배열생성\n",
    "arr3 = np.empty(5) \n",
    "arr3"
   ]
  },
  {
   "cell_type": "code",
   "execution_count": 26,
   "metadata": {},
   "outputs": [
    {
     "data": {
      "text/plain": [
       "array([1, 1, 1, 4])"
      ]
     },
     "execution_count": 26,
     "metadata": {},
     "output_type": "execute_result"
    }
   ],
   "source": [
    "a = np.array([1,2,3,4])\n",
    "a[:3]\n",
    "#슬라이싱가능\n",
    "a[:3] = 1\n",
    "a\n",
    "#슬라이싱한 부분 일괄 수정가능 -> python에선 안됨\n",
    "# arr[:3] = 1\n",
    "#     ~~~^^^^\n",
    "# TypeError: can only assign an iterable\n",
    "\n"
   ]
  },
  {
   "cell_type": "code",
   "execution_count": 27,
   "metadata": {},
   "outputs": [
    {
     "data": {
      "text/plain": [
       "array([[0, 0, 0, 0, 0, 0],\n",
       "       [0, 0, 0, 0, 0, 0],\n",
       "       [0, 0, 0, 0, 0, 0],\n",
       "       [0, 0, 0, 0, 0, 0],\n",
       "       [0, 0, 0, 0, 0, 0]])"
      ]
     },
     "execution_count": 27,
     "metadata": {},
     "output_type": "execute_result"
    }
   ],
   "source": [
    "# something_like\n",
    "# _like는 지정된 array의 shape 크기만큼 지정된 값으로 채워 array를 반환합니다.\n",
    "# 앞에서 정리한 ones, zeros, empty를 사용할 수 있습니다.\n",
    "test_matrix = np.arange(30).reshape(5,6)\n",
    "np.empty_like(test_matrix)\n",
    "np.ones_like(test_matrix)\n",
    "np.zeros_like(test_matrix)"
   ]
  },
  {
   "cell_type": "markdown",
   "metadata": {},
   "source": [
    "#### arange : 원하는 숫자범위 간격에따른 array생성"
   ]
  },
  {
   "cell_type": "code",
   "execution_count": 28,
   "metadata": {},
   "outputs": [
    {
     "name": "stdout",
     "output_type": "stream",
     "text": [
      "[0 1 2 3 4 5 6 7 8 9]\n",
      "[ 1  2  3  4  5  6  7  8  9 10]\n",
      "[0.  0.5 1.  1.5 2.  2.5 3.  3.5 4.  4.5]\n",
      "[ 0  2  4  6  8 10 12 14 16 18]\n",
      "[0 1 0 1 0 1 0 1 0 1]\n",
      "[0.1 0.2 0.3 0.4 0.5 0.6 0.7 0.8 0.9 1. ]\n",
      "[0 0 0 0 0 0 0 0 0 0]\n"
     ]
    }
   ],
   "source": [
    "# arange()활용\n",
    "print(np.arange(10))\n",
    "print(np.arange(10)+1)\n",
    "print(np.arange(10)/2)\n",
    "print(np.arange(10)*2)\n",
    "print(np.arange(10)%2)\n",
    "\n",
    "#arange() 실수가능\n",
    "print(np.arange(0.1, 1.1, 0.1))\n",
    "#타입 지정가능\n",
    "print(np.arange(0.1, 1.1, 0.1,dtype=int))"
   ]
  },
  {
   "cell_type": "code",
   "execution_count": 29,
   "metadata": {},
   "outputs": [
    {
     "data": {
      "text/plain": [
       "array([3, 5, 4, 3, 2, 3, 2, 1, 1, 5, 4, 5, 1, 1, 2, 2, 2, 3, 5, 2, 4, 2,\n",
       "       5, 2, 5, 3, 5, 1, 4, 3, 1, 2, 2, 4, 3, 2, 3, 5, 5, 2, 2, 4, 4, 2,\n",
       "       1, 1, 4, 1, 1, 5, 3, 5, 1, 2, 1, 2, 1, 4, 1, 4, 3, 3, 1, 5, 4, 1,\n",
       "       1, 4, 1, 1, 3, 2, 1, 4, 4, 2, 3, 4, 4, 3, 1, 4, 1, 4, 4, 3, 1, 4,\n",
       "       1, 4, 2, 4, 5, 1, 5, 5, 5, 2, 5, 3])"
      ]
     },
     "execution_count": 29,
     "metadata": {},
     "output_type": "execute_result"
    }
   ],
   "source": [
    "#rank 1-100등까지 등수가 담긴 array생성\n",
    "rank = np.random.choice(np.arange(1,101), size=100)\n",
    "\n",
    "# 1  ~ 20:  1\n",
    "# 21 ~ 40:  2\n",
    "# 41 ~ 60:  3\n",
    "# 61 ~ 80:  4\n",
    "# 81 ~ 100: 5\n",
    "# 의 값을 부여\n",
    "\n",
    "(rank-1)//20 +1\n",
    "\n",
    "#for문으로도가능"
   ]
  },
  {
   "cell_type": "code",
   "execution_count": 30,
   "metadata": {},
   "outputs": [],
   "source": [
    "a1 = np.random.randint(1,101,size = 100)  #지정한 범위 내에서 무작위로 정수를 생성 (중복가능)\n",
    "\n",
    "\n",
    "a2 = np.random.choice(np.arange(1,101),size = 100 ,replace = True) #중복허용해서 범위내 100개선택\n",
    "a3 = np.random.choice(np.arange(1,101),size = 100 ,replace = False) #중복없이 범위내 100개선택"
   ]
  },
  {
   "cell_type": "markdown",
   "metadata": {},
   "source": [
    "### linspace\n",
    "arange와 유사 <br>\n",
    "start와 stop를 주어진 숫자 만큼 분할"
   ]
  },
  {
   "cell_type": "code",
   "execution_count": 31,
   "metadata": {},
   "outputs": [],
   "source": [
    "a = np.linspace(2,3, num=5)\n",
    "x = np.linspace(2, 3, num=5, endpoint=False)    # 끝 점 미포함"
   ]
  },
  {
   "cell_type": "markdown",
   "metadata": {},
   "source": [
    "## 랜덤배열생성\n",
    "#### random\n",
    "\n",
    "균등분포에서 입력한 차원 만큼 데이터 생성 <br>\n",
    "<br>\n",
    "\n",
    "사용법\n",
    "```python\n",
    "x = np.random.random(size=(2, 3))    # size: dim\n",
    "```\n",
    "#### randint\n",
    "\n",
    "지정한 범위 내에서 임의의 수 생성\n",
    "\n",
    "사용법\n",
    "```python\n",
    "x = np.random.randint(0, 10, size=(5,2))    # size: dim\n",
    "```"
   ]
  },
  {
   "cell_type": "code",
   "execution_count": 32,
   "metadata": {},
   "outputs": [
    {
     "data": {
      "text/plain": [
       "array([[0, 7],\n",
       "       [3, 7],\n",
       "       [1, 5]])"
      ]
     },
     "execution_count": 32,
     "metadata": {},
     "output_type": "execute_result"
    }
   ],
   "source": [
    "np.random.random(size=(2, 3))\n",
    "np.random.randint(0, 10, size=(3, 2))"
   ]
  },
  {
   "cell_type": "markdown",
   "metadata": {},
   "source": [
    "### 로또1등 당첨프로그램(-)\n"
   ]
  },
  {
   "cell_type": "code",
   "execution_count": 33,
   "metadata": {},
   "outputs": [],
   "source": [
    "# 함수 만들기\n",
    "# 함수의 입력은 복권 구매 금액\n",
    "# 금액에 맞는 복권 매수 구매\n",
    "# 복권은 자동\n",
    "# 1등 번호는 6, 11, 16, 19, 21, 32\n",
    "# 복권 번호는 1 ~ 45\n",
    "\n",
    "    \n",
    "\n"
   ]
  },
  {
   "cell_type": "markdown",
   "metadata": {},
   "source": [
    "### 변환함수\n",
    "### 배열형태변환"
   ]
  },
  {
   "cell_type": "code",
   "execution_count": 34,
   "metadata": {},
   "outputs": [
    {
     "data": {
      "text/plain": [
       "array([1, 2, 3, 4, 5, 6])"
      ]
     },
     "execution_count": 34,
     "metadata": {},
     "output_type": "execute_result"
    }
   ],
   "source": [
    "#1차원배열 2차원배열로변환\n",
    "arr = np.array([1,2,3,4,5,6])\n",
    "arr2 = arr.reshape(2,3)\n",
    "arr2\n",
    "\n",
    "#2차원배열 1차원으로\n",
    "arr1 = arr2.flatten()\n",
    "arr1"
   ]
  },
  {
   "cell_type": "code",
   "execution_count": 35,
   "metadata": {},
   "outputs": [
    {
     "name": "stdout",
     "output_type": "stream",
     "text": [
      "[1 2 3]\n"
     ]
    }
   ],
   "source": [
    "#타입변환\n",
    "#정수를 실수로\n",
    "arr_int = np.array([1,2,3])\n",
    "arr_flaot = arr_int.astype(float)\n",
    "arr_flaot\n",
    "\n",
    "\n",
    "#문자열 배열을 정수형 배열로 변환\n",
    "arr_str = np.array(['1', '2', '3'])\n",
    "arr_int = arr_str.astype(int)\n",
    "print(arr_int)"
   ]
  },
  {
   "cell_type": "code",
   "execution_count": 36,
   "metadata": {},
   "outputs": [
    {
     "data": {
      "text/plain": [
       "array([[1, 3, 5],\n",
       "       [2, 4, 6]])"
      ]
     },
     "execution_count": 36,
     "metadata": {},
     "output_type": "execute_result"
    }
   ],
   "source": [
    "#축변환\n",
    "a = np.array([[1,2],[3,4],[5,6]])\n",
    "trans = a.transpose()\n",
    "trans"
   ]
  },
  {
   "cell_type": "code",
   "execution_count": 37,
   "metadata": {},
   "outputs": [
    {
     "data": {
      "text/plain": [
       "5"
      ]
     },
     "execution_count": 37,
     "metadata": {},
     "output_type": "execute_result"
    }
   ],
   "source": [
    "#집계함수\n",
    "a.sum()\n",
    "a.mean()\n",
    "a.std()\n",
    "a.min()\n",
    "a.max()\n",
    "a.argmax() #index반환(평탄화했을때)\n",
    "# a.argmin() #index반환\n"
   ]
  },
  {
   "cell_type": "code",
   "execution_count": 38,
   "metadata": {},
   "outputs": [
    {
     "data": {
      "text/plain": [
       "array([False, False,  True,  True])"
      ]
     },
     "execution_count": 38,
     "metadata": {},
     "output_type": "execute_result"
    }
   ],
   "source": [
    "#논리함수\n",
    "arr1 = np.array([True, False, False, True])\n",
    "arr2 = np.array([True, True, False, False])\n",
    "\n",
    "np.logical_and(arr1, arr2)\n",
    "np.logical_or(arr1, arr2)\n",
    "np.logical_not(arr1)\n",
    "np.logical_not(arr2)"
   ]
  },
  {
   "cell_type": "code",
   "execution_count": 39,
   "metadata": {},
   "outputs": [
    {
     "data": {
      "text/plain": [
       "array([False, False,  True,  True])"
      ]
     },
     "execution_count": 39,
     "metadata": {},
     "output_type": "execute_result"
    }
   ],
   "source": [
    "import numpy as np\n",
    "\n",
    "arr1 = np.array([10, 20, 30, 40])\n",
    "arr2 = np.array([1, 2, 3, 4])\n",
    "\n",
    "arr1+arr2\n",
    "arr1-arr2\n",
    "arr1*arr2\n",
    "arr1*2\n",
    "arr1/arr2\n",
    "arr1**3\n",
    "arr1>20"
   ]
  },
  {
   "cell_type": "code",
   "execution_count": 40,
   "metadata": {},
   "outputs": [
    {
     "data": {
      "text/plain": [
       "array([1, 2])"
      ]
     },
     "execution_count": 40,
     "metadata": {},
     "output_type": "execute_result"
    }
   ],
   "source": [
    "a = np.array([1, 2, 3, 4, 5, 6])\n",
    "a[a > 3]\n",
    "a[(a % 2) == 0]\n",
    "a[1]\n",
    "a[:2]"
   ]
  },
  {
   "cell_type": "markdown",
   "metadata": {},
   "source": [
    "### 숙제\n",
    "- 10x10배열에서 서로 다른 두 원소를 선택해서 두 원소의 차이의 절대값이 가장 작은 두 원소를 찾아보기\n",
    "\n",
    "- 두 원소의 차이의 절대값이 가장 큰 두 원소를 찾아보기"
   ]
  },
  {
   "cell_type": "code",
   "execution_count": 112,
   "metadata": {},
   "outputs": [
    {
     "name": "stdout",
     "output_type": "stream",
     "text": [
      "첫번째:0.9835203984217912, 두번째: 0.9968287191997748\n"
     ]
    }
   ],
   "source": [
    "arr = np.random.rand(10,10)\n",
    "arr = arr.flatten()\n",
    "\n",
    "\n",
    "\n",
    "min =  arr.max()- arr.min()\n",
    "sorted_arr = np.sort(arr)\n",
    "min_idx = 0\n",
    "for i in range(len(sorted_arr)-1):\n",
    "  diff = sorted_arr[i] -sorted_arr[i+1]\n",
    "  \n",
    "  if diff < 0:\n",
    "    diff *= -1\n",
    "  if diff < min:\n",
    "    min = diff\n",
    "    min_idx = i  \n",
    "print(f'첫번째:{sorted_arr[i]}, 두번째: {sorted_arr[i+1]}')    \n",
    "\n"
   ]
  }
 ],
 "metadata": {
  "kernelspec": {
   "display_name": "Python 3",
   "language": "python",
   "name": "python3"
  },
  "language_info": {
   "codemirror_mode": {
    "name": "ipython",
    "version": 3
   },
   "file_extension": ".py",
   "mimetype": "text/x-python",
   "name": "python",
   "nbconvert_exporter": "python",
   "pygments_lexer": "ipython3",
   "version": "3.11.3"
  },
  "orig_nbformat": 4
 },
 "nbformat": 4,
 "nbformat_minor": 2
}
