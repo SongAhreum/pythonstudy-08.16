{
 "cells": [
  {
   "cell_type": "code",
   "execution_count": 1,
   "metadata": {},
   "outputs": [],
   "source": [
    "import numpy as np\n",
    "import pandas as pd"
   ]
  },
  {
   "cell_type": "code",
   "execution_count": 7,
   "metadata": {},
   "outputs": [
    {
     "data": {
      "text/plain": [
       "4.0"
      ]
     },
     "execution_count": 7,
     "metadata": {},
     "output_type": "execute_result"
    }
   ],
   "source": [
    "# Series : 1차원 배열 구조\n",
    "# DataFrame : 2차원 배열 구조\n",
    "\n",
    "# Series\n",
    "s = pd.Series([1,3,4, np.nan, 6, 8])\n",
    "s[3]\n",
    "s = pd.Series([1,3,4, np.nan, 6,8], index=['A','B','C','D','E', 'F'])\n",
    "s\n",
    "s['C']"
   ]
  },
  {
   "cell_type": "code",
   "execution_count": 24,
   "metadata": {},
   "outputs": [
    {
     "data": {
      "text/plain": [
       "Name    철수\n",
       "Age      5\n",
       "Name: 1, dtype: object"
      ]
     },
     "execution_count": 24,
     "metadata": {},
     "output_type": "execute_result"
    }
   ],
   "source": [
    "# DataFrame\n",
    "data = {\n",
    "    'Name':['짱구', '철수', '훈이'],\n",
    "    'Age':[5,5,5]\n",
    "}\n",
    "\n",
    "df = pd.DataFrame(data)\n",
    "df\n",
    "# df['Name']\n",
    "# df.loc[0]\n",
    "df.iloc[1]"
   ]
  },
  {
   "cell_type": "code",
   "execution_count": 263,
   "metadata": {},
   "outputs": [],
   "source": [
    "data = {\n",
    "    'Name':['John', 'Anna', 'Peter', 'Linda'],\n",
    "    'Age':[28,24,35,32],\n",
    "    'City':['New York', \"Paris\", \"Berlin\", \"London\"]\n",
    "}\n",
    "df = pd.DataFrame(data)\n",
    "df\n",
    "\n",
    "df = df.rename(columns={'City': '도시'})\n",
    "df = df.rename(columns={'도시': 'City'})"
   ]
  },
  {
   "cell_type": "code",
   "execution_count": 264,
   "metadata": {},
   "outputs": [
    {
     "data": {
      "text/plain": [
       "Name     Peter\n",
       "City    Berlin\n",
       "Name: 2, dtype: object"
      ]
     },
     "execution_count": 264,
     "metadata": {},
     "output_type": "execute_result"
    }
   ],
   "source": [
    "\n",
    "# 1. 도시 기준으로 정렬\n",
    "# 2. 평균 나이 구하기\n",
    "# 3. 이름이 Peter인 사람의 나이 출력\n",
    "# 4. 가장 나이가 많은 사람이 살고 있는 이름, 도시 출력해보기\n",
    "df = pd.DataFrame(data)\n",
    "\n",
    "\n",
    "df.sort_values('City')\n",
    "\n",
    "df['Age'].mean()\n",
    "\n",
    "df[df['Name'] =='Peter']['Age'].values\n",
    "\n",
    "oldest = df.loc[df['Age'].idxmax()]\n",
    "oldest[['Name','City']] \n",
    "\n",
    "###########################################\n",
    "#oldest['Name'] Serise반환\n",
    "#oldest[['Name','City']] DataFrame반환\n",
    "############################################\n",
    "\n",
    "#다른방법\n",
    "df.sort_values('Age', ascending=False).iloc[0][['Name','City']]"
   ]
  },
  {
   "cell_type": "code",
   "execution_count": 273,
   "metadata": {},
   "outputs": [
    {
     "data": {
      "text/plain": [
       "1000"
      ]
     },
     "execution_count": 273,
     "metadata": {},
     "output_type": "execute_result"
    }
   ],
   "source": [
    "# 1000명의 사람 데이터 만들기\n",
    "# 이름 : Person_1, Person_2, ... Person_1000\n",
    "# 나이 : 20 ~ 60 랜덤\n",
    "# 도시 : 특정 도시에서 랜덤으로 할당 ex) New York, Paris, Berlin, London, Seoul, Tokyo\n",
    "np.random.seed(0)\n",
    "data = pd.DataFrame({\n",
    "    'Name': ['Person_' + str(i) for i in range(1, 1001)],\n",
    "    'Age': np.random.randint(20, 60, 1000),\n",
    "    'City': np.random.choice([\"New York\", \"Paris\", \"Berlin\", \"London\", \"Seoul\", 'Tokyo'], 1000)\n",
    "})\n",
    "\n",
    "# 1.도시별 평균 나이 구하기\n",
    "# 2.가장 많은 사람이 살고 있는 도시\n",
    "# 3.연봉 추가해서 랜덤으로 할당 ex) $50,000 ~ $150,000\n",
    "# 4.연봉 순서대로 정렬한 후 연봉 1등과 꼴등 출력해보기\n",
    "\n",
    "#1.\n",
    "res = data.groupby(['City'])['Age'].mean()\n",
    "\n",
    "#2.\n",
    "# popular_city = data['City'].values\n",
    "# res ={}\n",
    "# for i in range(len(popular_city)):\n",
    "#     if popular_city[i] in res:\n",
    "#         res[popular_city[i]] += 1\n",
    "#     else:\n",
    "#         res[popular_city[i]] = 1 \n",
    "# max = 0\n",
    "# city = \"\"\n",
    "# for k,v in res.items():\n",
    "#     if max < v:\n",
    "#         max = v\n",
    "#         city = k\n",
    "# print(max,city)    \n",
    "\n",
    "popular_city = data['City'].value_counts() # 도시 : 도시valuecount한값\n",
    "popular_city.index  #도시가인덱스\n",
    "popular_city .idxmax() # 값이 max인 dix\n",
    "\n",
    "#3.\n",
    "np.random.seed(0)\n",
    "salary_data = pd.DataFrame({\n",
    "    'Name': data['Name'],\n",
    "    'Salary': np.random.randint(50000,150001,1000)    \n",
    "})\n",
    "res = data.merge(salary_data, on='Name')\n",
    "##########################################풀이\n",
    "np.random.seed(0)\n",
    "data['Salary'] = np.random.randint(50000,150001,size=data.shape[0])  \n",
    "\n",
    "\n",
    "#4.\n",
    "res = res.sort_values(['Salary'],ascending=False)\n",
    "res.iloc[0]\n",
    "res.iloc[999]\n",
    "res.iloc[-1]\n",
    "\n",
    "# res.sort_values(['Salary'],ascending=False).iloc[0]\n",
    "# res.sort_values(['Salary'],ascending=False).iloc[-1]\n",
    "\n",
    "# max = res[res['Salary'] == res['Salary'].max()].index\n",
    "# min = res[res['Salary'] == res['Salary'].min()].index\n",
    "# res.iloc[max]\n",
    "# res.iloc[min]\n",
    "######################풀이\n",
    "data.loc[data['Salary'].idxmax()]\n",
    "data.loc[data['Salary'].idmin()]\n",
    "\n",
    "\n",
    "res = res.sort_values(['Salary'],ascending=False)\n",
    "data.head(1)\n",
    "data.tail(1)"
   ]
  },
  {
   "cell_type": "code",
   "execution_count": 274,
   "metadata": {},
   "outputs": [],
   "source": [
    "np.random.seed(0)\n",
    "data1 = pd.DataFrame({\n",
    "    'Name': ['Person_' + str(i) for i in range(1, 1001)],\n",
    "    'Age': np.random.randint(20, 60, 1000),\n",
    "    'City': np.random.choice([\"New York\", \"Paris\", \"Berlin\", \"London\", \"Seoul\", 'Tokyo'], 1000)\n",
    "})\n",
    "\n",
    "np.random.seed(0)\n",
    "data2 = pd.DataFrame({\n",
    "    'Name': ['Person_' + str(i) for i in range(1, 1001)],\n",
    "    #'Name': data1['Name']\n",
    "    'Salary': np.random.randint(50000,150001,1000)  \n",
    "})\n",
    "\n",
    "np.random.seed(0)\n",
    "data3 = pd.DataFrame({\n",
    "    'City': [\"New York\", \"Paris\", \"Berlin\", \"London\", \"Seoul\", 'Tokyo'],\n",
    "    'Country':['USA', 'France', 'Germany', 'UK', 'Korea', 'Japan']   \n",
    "})"
   ]
  },
  {
   "cell_type": "code",
   "execution_count": 275,
   "metadata": {},
   "outputs": [
    {
     "data": {
      "text/plain": [
       "'Germany'"
      ]
     },
     "execution_count": 275,
     "metadata": {},
     "output_type": "execute_result"
    }
   ],
   "source": [
    "res = data1.merge(data2,on='Name')\n",
    "res = res.merge(data3,on='City')\n",
    "\n",
    "#각나라별 평균연봉\n",
    "res.groupby(['Country'])['Salary'].mean()\n",
    "\n",
    "#제일 연봉높은사람은 어느나라사람인지?\n",
    "idx = res['Salary'].idxmax()\n",
    "res.iloc[idx]['Country']"
   ]
  },
  {
   "cell_type": "code",
   "execution_count": 276,
   "metadata": {},
   "outputs": [
    {
     "name": "stdout",
     "output_type": "stream",
     "text": [
      "City   Fruit \n",
      "Busan  Apple      7\n",
      "       Banana    12\n",
      "Seoul  Apple     10\n",
      "       Banana    15\n",
      "Name: Quantity, dtype: int64\n"
     ]
    }
   ],
   "source": [
    "data = pd.DataFrame({\n",
    "    'City': ['Seoul', 'Seoul', 'Busan', 'Busan'],\n",
    "    'Fruit': ['Apple', 'Banana', 'Apple', 'Banana'],\n",
    "    'Quantity': [10, 15, 7, 12],\n",
    "    'Price': [1000, 2000, 1500, 2500]\n",
    "})\n",
    "\n",
    "group = data.groupby(['City','Fruit'])['Quantity'].sum()\n",
    "\n",
    "print(group)"
   ]
  },
  {
   "cell_type": "markdown",
   "metadata": {},
   "source": []
  }
 ],
 "metadata": {
  "kernelspec": {
   "display_name": "Python 3",
   "language": "python",
   "name": "python3"
  },
  "language_info": {
   "codemirror_mode": {
    "name": "ipython",
    "version": 3
   },
   "file_extension": ".py",
   "mimetype": "text/x-python",
   "name": "python",
   "nbconvert_exporter": "python",
   "pygments_lexer": "ipython3",
   "version": "3.11.3"
  },
  "orig_nbformat": 4
 },
 "nbformat": 4,
 "nbformat_minor": 2
}
